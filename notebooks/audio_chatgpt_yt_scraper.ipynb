{
 "cells": [
  {
   "cell_type": "markdown",
   "metadata": {},
   "source": [
    "# Setup Dependencies:"
   ]
  },
  {
   "cell_type": "code",
   "execution_count": null,
   "metadata": {},
   "outputs": [],
   "source": [
    "%pip install --upgrade pip\n",
    "%pip install openai==0.28\n",
    "%pip install youtube-transcript-api"
   ]
  },
  {
   "cell_type": "markdown",
   "metadata": {},
   "source": [
    "# 1-transcript.py\n",
    "\n",
    "This code pulls the YouTube Transcript for a video and prints it out as both JSON, and plain text."
   ]
  },
  {
   "cell_type": "code",
   "execution_count": null,
   "metadata": {},
   "outputs": [],
   "source": [
    "from youtube_transcript_api import YouTubeTranscriptApi\n",
    "\n",
    "url = 'https://www.youtube.com/watch?v=U4Sw4zUqXvw'\n",
    "print(url)\n",
    "\n",
    "video_id = url.replace('https://www.youtube.com/watch?v=', '')\n",
    "print(video_id)\n",
    "\n",
    "transcript = YouTubeTranscriptApi.get_transcript(video_id)\n",
    "\n",
    "print(transcript)\n",
    "\n",
    "output = ''\n",
    "for x in transcript:\n",
    "  sentence = x['text']\n",
    "  output += f' {sentence}\\n'\n",
    "\n",
    "print(output)"
   ]
  },
  {
   "cell_type": "markdown",
   "metadata": {},
   "source": [
    "# 2-gpt.py\n",
    "\n",
    "This code summarizes a YouTube video, and creates Tags using ChatGPT."
   ]
  },
  {
   "cell_type": "code",
   "execution_count": null,
   "metadata": {},
   "outputs": [],
   "source": [
    "from youtube_transcript_api import YouTubeTranscriptApi\n",
    "import openai\n",
    "\n",
    "openai.api_key = ''\n",
    "\n",
    "url = 'https://www.youtube.com/watch?v=U4Sw4zUqXvw'\n",
    "print(url)\n",
    "\n",
    "video_id = url.replace('https://www.youtube.com/watch?v=', '')\n",
    "print(video_id)\n",
    "\n",
    "transcript = YouTubeTranscriptApi.get_transcript(video_id)\n",
    "\n",
    "output = ''\n",
    "for x in transcript:\n",
    "  sentence = x['text']\n",
    "  output += f' {sentence}\\n'\n",
    "\n",
    "response = openai.ChatCompletion.create(\n",
    "    model=\"gpt-3.5-turbo\",\n",
    "    messages=[\n",
    "        {\"role\": \"system\", \"content\": \"You are a journalist.\"},\n",
    "        {\"role\": \"assistant\", \"content\": \"write a 100 word summary of this video\"},\n",
    "        {\"role\": \"user\", \"content\": output}\n",
    "    ]\n",
    ")\n",
    "summary = response[\"choices\"][0][\"message\"][\"content\"]\n",
    "\n",
    "response = openai.ChatCompletion.create(\n",
    "    model=\"gpt-3.5-turbo\",\n",
    "    messages=[\n",
    "        {\"role\": \"system\", \"content\": \"You are a journalist.\"},\n",
    "        {\"role\": \"assistant\",\n",
    "         \"content\": \"output a list of tags for this blog post in a python list such as ['item1', 'item2','item3']\"},\n",
    "        {\"role\": \"user\", \"content\": output}\n",
    "    ]\n",
    ")\n",
    "tag = response[\"choices\"][0][\"message\"][\"content\"]\n",
    "\n",
    "print('>>>SUMMARY:')\n",
    "print(summary)\n",
    "print('>>>TAGS:')\n",
    "print(tag)\n",
    "print('>>>OUTPUT:')\n",
    "# print(output)\n",
    "\n",
    "# print(transcript)"
   ]
  },
  {
   "cell_type": "markdown",
   "metadata": {},
   "source": [
    "# 3-timecode.py\n",
    "\n",
    "This code asks ChatGPT for subjects discussed in a vide and asks for the time code."
   ]
  },
  {
   "cell_type": "code",
   "execution_count": null,
   "metadata": {},
   "outputs": [],
   "source": [
    "from youtube_transcript_api import YouTubeTranscriptApi\n",
    "import openai\n",
    "\n",
    "openai.api_key = ''\n",
    "\n",
    "url = 'https://www.youtube.com/watch?v=U4Sw4zUqXvw'\n",
    "print(url)\n",
    "\n",
    "video_id = url.replace('https://www.youtube.com/watch?v=', '')\n",
    "print(video_id)\n",
    "\n",
    "transcript = YouTubeTranscriptApi.get_transcript(video_id)\n",
    "\n",
    "response = openai.ChatCompletion.create(\n",
    "    model=\"gpt-3.5-turbo-16k\",\n",
    "    messages=[\n",
    "        {\"role\": \"system\", \"content\": \"You are a database computer\"},\n",
    "        {\"role\": \"assistant\",\n",
    "         \"content\": \"data is stored in JSON {text:'', start:'', duration:''}\"},\n",
    "        {\"role\": \"assistant\", \"content\": str(transcript)},\n",
    "        {\"role\": \"user\", \"content\": \"what are the topics discussed in this video. Provide start time codes in seconds and also in minutes and seconds\"}\n",
    "    ]\n",
    ")\n",
    "timecode = response[\"choices\"][0][\"message\"][\"content\"]\n",
    "\n",
    "print(timecode)"
   ]
  }
 ],
 "metadata": {
  "kernelspec": {
   "display_name": "Python 3",
   "language": "python",
   "name": "python3"
  },
  "language_info": {
   "codemirror_mode": {
    "name": "ipython",
    "version": 3
   },
   "file_extension": ".py",
   "mimetype": "text/x-python",
   "name": "python",
   "nbconvert_exporter": "python",
   "pygments_lexer": "ipython3",
   "version": "3.10.12"
  }
 },
 "nbformat": 4,
 "nbformat_minor": 2
}
